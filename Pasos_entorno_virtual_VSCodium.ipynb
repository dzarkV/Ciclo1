{
 "cells": [
  {
   "cell_type": "markdown",
   "metadata": {},
   "source": [
    "# Cómo trabajar con Jupyter notebooks en VSCodium y entornos virtuales\n",
    "\n",
    "Con el fin de poder dividir entornos de trabajo de manera organizada (sin descargar y usar frameworks y librerías como un loco), se describe a continuación una serie de pasos que pueden ayudar a mantener un orden por medio del uso de entornos virtuales. Esta solución se describe en una publicación de https://codemuch.net/posts/vscode_jupyter_notebook/ . En este caso la describo en español y con algunas modificaciones para mi caso, el cual posiblemente sea el tuyo también."
   ]
  },
  {
   "cell_type": "markdown",
   "metadata": {},
   "source": [
    "Después de crear una carpeta para nuesto proyecto, debemos crear el entorno virtual y correrlo. Valga decir que en este momento tengo Python 3.10 y trabajo en Linux basado en Debian. Vamos a una terminal e instalamos el paquete de venv:"
   ]
  },
  {
   "cell_type": "code",
   "execution_count": null,
   "metadata": {},
   "outputs": [],
   "source": [
    "sudo apt install python3.10-venv"
   ]
  },
  {
   "cell_type": "markdown",
   "metadata": {},
   "source": [
    "Después vamos a la carpeta donde tenemos nuestros proyectos (si es que no lo hemos hecho) y lanzamos el entorno:"
   ]
  },
  {
   "cell_type": "code",
   "execution_count": null,
   "metadata": {},
   "outputs": [],
   "source": [
    "source .venv/bin/activate"
   ]
  },
  {
   "cell_type": "markdown",
   "metadata": {},
   "source": [
    "Podemos verificar si en nuestro entorno hay algún paquete instalado con:"
   ]
  },
  {
   "cell_type": "code",
   "execution_count": null,
   "metadata": {},
   "outputs": [],
   "source": [
    "pip freeze"
   ]
  },
  {
   "cell_type": "markdown",
   "metadata": {},
   "source": [
    "Para desactivar el entorno, podemos ir a la terminal y finalizarlo con:"
   ]
  },
  {
   "cell_type": "code",
   "execution_count": null,
   "metadata": {},
   "outputs": [],
   "source": [
    "deactivate"
   ]
  },
  {
   "cell_type": "markdown",
   "metadata": {},
   "source": [
    "Para lograr trabajar con jupyter notebooks en VSCodium (en mi caso, la versión 1.66), debemos traer los modulos necesarios para que funcione jupyter (dado que, como se vió anteriormente, al usar `pip freeze`, no hay paquetes o modulos instalados):"
   ]
  },
  {
   "cell_type": "code",
   "execution_count": null,
   "metadata": {},
   "outputs": [],
   "source": [
    "pip install ipykernel jupyter"
   ]
  },
  {
   "cell_type": "markdown",
   "metadata": {},
   "source": [
    "Ahora creamos un nuevo `ipykernel` para usarlo en nuestro proyecto. Este kernel puede tener un nombre personalizado dependiendo de los objetivos que tenga el proyecto, por ejemplo:"
   ]
  },
  {
   "cell_type": "code",
   "execution_count": null,
   "metadata": {},
   "outputs": [],
   "source": [
    "python -m ipykernel install --user --name=jupyter-learn-kernel"
   ]
  },
  {
   "cell_type": "markdown",
   "metadata": {},
   "source": [
    "El fragmento `--user` evita que cuando lancemos esta línea de código la consola nos devuelva un error de permisos de este tipo: \n",
    "\n",
    "`[Errno 13] Permission denied: '/usr/local/share/jupyter'`\n",
    "\n",
    "Ahora, si abrimos un archivo `.ipynb` o si creamos uno nuevo, debemos escoger el kernel que instalamos con anterioridad (llamado 'jupyter-learn-kernel', en este caso). Si este no aparece en la lista, reinicia el editor de código.\n",
    "\n",
    "A continuación puede hacerse una prueba importando la librería de pandas, por ejemplo:"
   ]
  },
  {
   "cell_type": "code",
   "execution_count": null,
   "metadata": {},
   "outputs": [],
   "source": [
    "import pandas as pd"
   ]
  },
  {
   "cell_type": "markdown",
   "metadata": {},
   "source": [
    "O correr estas líneas para poder cargar las carpetas del sistema operativo"
   ]
  },
  {
   "cell_type": "code",
   "execution_count": null,
   "metadata": {},
   "outputs": [],
   "source": [
    "from sys import path\n",
    "import os\n",
    "path.append(os.path.realpath('../'))"
   ]
  },
  {
   "cell_type": "markdown",
   "metadata": {},
   "source": [
    "Y verificar en nuestro notebook si arroja errores o con `pip freeze` directamente en la consola."
   ]
  }
 ],
 "metadata": {
  "interpreter": {
   "hash": "916dbcbb3f70747c44a77c7bcd40155683ae19c65e1c03b4aa3499c5328201f1"
  },
  "kernelspec": {
   "display_name": "jupyter-learn-kernel-env",
   "language": "python",
   "name": "jupyter-learn-kernel-env"
  },
  "language_info": {
   "codemirror_mode": {
    "name": "ipython",
    "version": 3
   },
   "file_extension": ".py",
   "mimetype": "text/x-python",
   "name": "python",
   "nbconvert_exporter": "python",
   "pygments_lexer": "ipython3",
   "version": "3.10.4"
  },
  "orig_nbformat": 4
 },
 "nbformat": 4,
 "nbformat_minor": 2
}
