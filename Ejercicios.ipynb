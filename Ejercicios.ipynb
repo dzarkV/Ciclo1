{
  "nbformat": 4,
  "nbformat_minor": 0,
  "metadata": {
    "colab": {
      "name": "Ejercicios.ipynb",
      "provenance": [],
      "collapsed_sections": []
    },
    "kernelspec": {
      "name": "python3",
      "display_name": "Python 3"
    },
    "language_info": {
      "name": "python"
    }
  },
  "cells": [
    {
      "cell_type": "markdown",
      "metadata": {
        "id": "gOAEXqAY8_rN"
      },
      "source": [
        "# Semana 1"
      ]
    },
    {
      "cell_type": "markdown",
      "metadata": {
        "id": "GS6kT_kjo2Ed"
      },
      "source": [
        "**Ejercicio 1 Discurso político**"
      ]
    },
    {
      "cell_type": "code",
      "metadata": {
        "colab": {
          "base_uri": "https://localhost:8080/"
        },
        "id": "g0DvxtJj5UEb",
        "outputId": "3b92c7ea-e36a-4b23-f869-736828da74a6"
      },
      "source": [
        "import random #se importa la librería de python random\n",
        "\n",
        "lambetazo = [\"queridos\", \"apreciados\", \"distinguidos\", \"honoradbles\", \"estimados\", \"respetados\"]  #se define una lista\n",
        "potenciales_marranos = [\"compatriotas\", \"conciudadanos\", \"amigos\", \"coterraneos\", \"copartidarios\", \"electores\"]\n",
        "condicion = [\"en mi gobierno\", \"con su apoyo\", \"siendo elegido\", \"con su ayuda\", \"si me siguen\", \"durante mi mandato\"]\n",
        "compromiso = [\"voy a derrotar\", \"venceré\", \"eliminaré\", \"acabaré\", \"lucharé contra\", \"combatiré\"]\n",
        "ilusion_guerrerista = [\"la violencia y\", \"la delincuencia y\", \"la corrupción y\", \"la inflación y\", \"la pobreza y\", \"el desplazamiento y\"]\n",
        "promesa = [\"trabajaré por\", \"garantizaré\", \"protegeré\", \"velaré\", \"promoveré\", \"defenderé\"]\n",
        "beneficio_populista = [\"la educación\", \"el empleo\", \"la seguridad\", \"la paz\", \"la igualdad\", \"la salud\"]\n",
        "dependiendo_de_la_cantidad_de_votos = [\"del país\", \"de la ciudad\", \"de la comunidad\", \"de la población\", \"para toda la gente\", \"de cada colombiano\"]\n",
        "\n",
        "lambetazo_seleccionado = random.choice(lambetazo) #se utiliza la librería para seleccionar un elemento al azar de la lista sujetos\n",
        "potenciales_marranos_seleccionado = random.choice(potenciales_marranos)\n",
        "condicion_seleccionado = random.choice(condicion)\n",
        "compromiso_seleccionado = random.choice(compromiso)\n",
        "ilusion_guerrerista_seleccionado = random.choice(ilusion_guerrerista)\n",
        "promesa_seleccionado = random.choice(promesa)\n",
        "beneficio_populista_seleccionado = random.choice(beneficio_populista)\n",
        "dependiendo_de_la_cantidad_de_votos_seleccionado = random.choice(dependiendo_de_la_cantidad_de_votos)\n",
        "\n",
        "print(\"discurso político: \" + lambetazo_seleccionado + \" \" + potenciales_marranos_seleccionado + \" \" + condicion_seleccionado + \" \" \n",
        "      + compromiso_seleccionado + \" \" + ilusion_guerrerista_seleccionado + \" \" + promesa_seleccionado + \" \" + beneficio_populista_seleccionado + \" \" \n",
        "      + dependiendo_de_la_cantidad_de_votos_seleccionado) #se imprime la canción\n"
      ],
      "execution_count": null,
      "outputs": [
        {
          "output_type": "stream",
          "text": [
            "discurso político: apreciados copartidarios si me siguen lucharé contra la inflación y velaré el empleo de la población\n"
          ],
          "name": "stdout"
        }
      ]
    },
    {
      "cell_type": "markdown",
      "metadata": {
        "id": "LlQFM4JKpESD"
      },
      "source": [
        "**Ejercicio 2 Patineta de Esteban**\n",
        "\n",
        "Para determinar si a Esteban le falta, definimos las variables con los datos mencionados. Sin embargo, los datos ofrecidos sobre las entradas del hermano son insuficientes porque no se dice qué se hace con ese dinero ¿el hermano le prestó el dinero, se lo regaló, se lo quedó? De tal manera, se puede decir que sí, a Esteban aún le falta ahorrar para su patineta."
      ]
    },
    {
      "cell_type": "code",
      "metadata": {
        "colab": {
          "base_uri": "https://localhost:8080/"
        },
        "id": "8mj_-uZspZBt",
        "outputId": "5cd16b77-680d-4060-c688-044bdd4be018"
      },
      "source": [
        "valor_patineta = 55000 # Lo que vale la patineta\n",
        "mesada_papa = 5000 # Lo que Estaban gana de mesada\n",
        "lavar_auto_tio = 3 * mesada_papa # Lo que le dió su tío por lavar su auto\n",
        "\n",
        "print(\"¿Cúanto le falta a Esteban para su patineta?:\")\n",
        "print(valor_patineta - mesada_papa - lavar_auto_tio)\n"
      ],
      "execution_count": null,
      "outputs": [
        {
          "output_type": "stream",
          "text": [
            "¿Cúanto le falta a Esteban para su patineta?:\n",
            "35000\n"
          ],
          "name": "stdout"
        }
      ]
    },
    {
      "cell_type": "markdown",
      "metadata": {
        "id": "lMD2pQb5urnu"
      },
      "source": [
        "**Ejercicio 3 Triángulo rectángulo**\n",
        "\n"
      ]
    },
    {
      "cell_type": "code",
      "metadata": {
        "colab": {
          "base_uri": "https://localhost:8080/"
        },
        "id": "AEynFqF2vopS",
        "outputId": "1e449312-f170-499f-8089-b5bf1e06f1b2"
      },
      "source": [
        "base = 3\n",
        "altura = 4\n",
        "\n",
        "print(\"El área del triángulo rectángulo es: \") \n",
        "print(base * altura / 2)"
      ],
      "execution_count": null,
      "outputs": [
        {
          "output_type": "stream",
          "text": [
            "El área del triángulo rectángulo es: \n",
            "6.0\n"
          ],
          "name": "stdout"
        }
      ]
    },
    {
      "cell_type": "markdown",
      "metadata": {
        "id": "n0HiMjdqwdRI"
      },
      "source": [
        "**Ejercicio 4 Promedio alumno**\n",
        "\n"
      ]
    },
    {
      "cell_type": "code",
      "metadata": {
        "id": "bTOhUrTdwz3s"
      },
      "source": [
        "# se determinan los notas de las materias\n",
        "materia1 = a\n",
        "materia2 = b\n",
        "materia3 = c\n",
        "materia4 = d\n",
        "materia5 = e\n",
        "\n",
        "promedio_alumno = materia1 + materia2 + materia3 + materia4 + materia5 / 5 \n",
        "\n",
        "# si el promedio_alumno es > a 7.0, el alumno aprueba\n",
        "# si no, desaprueba  \n",
        "\n",
        "if promedio_alumno > 7.0\n",
        "  print(El alumno aprueba)\n",
        "else:\n",
        "  print(El alumno desaprueba)"
      ],
      "execution_count": null,
      "outputs": []
    },
    {
      "cell_type": "markdown",
      "metadata": {
        "id": "kDAp6RGP8bf2"
      },
      "source": [
        "# Semana 2"
      ]
    },
    {
      "cell_type": "markdown",
      "metadata": {
        "id": "BnkhBd1XxbVn"
      },
      "source": [
        "# Datos y expresiones\n",
        "\n",
        "**Identificadores**"
      ]
    },
    {
      "cell_type": "code",
      "metadata": {
        "colab": {
          "base_uri": "https://localhost:8080/"
        },
        "id": "hLzl8YczrhjB",
        "outputId": "e40ec9ee-948c-405b-9da7-0ea21ff647e4"
      },
      "source": [
        "\"\"\"\n",
        "identificadores de variables\n",
        "\"\"\"\n",
        "x=5\n",
        "print(x)"
      ],
      "execution_count": null,
      "outputs": [
        {
          "output_type": "stream",
          "text": [
            "5\n"
          ],
          "name": "stdout"
        }
      ]
    },
    {
      "cell_type": "code",
      "metadata": {
        "colab": {
          "base_uri": "https://localhost:8080/"
        },
        "id": "UybkOVZ64rOR",
        "outputId": "4dffee8a-f5cc-489a-bc63-c5e3c456e6a7"
      },
      "source": [
        "\"\"\"\n",
        "tipos de datos boleanos \n",
        "\"\"\"\n",
        "z=True\n",
        "print(type(z),z)"
      ],
      "execution_count": null,
      "outputs": [
        {
          "output_type": "stream",
          "text": [
            "<class 'bool'> True\n"
          ],
          "name": "stdout"
        }
      ]
    },
    {
      "cell_type": "code",
      "metadata": {
        "colab": {
          "base_uri": "https://localhost:8080/"
        },
        "id": "4z4DVEIU69OS",
        "outputId": "3ec792c4-187b-4021-ba50-986468e347bf"
      },
      "source": [
        "x,y = 1, \"hola\"\n",
        "\n",
        "print(str(x)+ \" \" +str(y))\n"
      ],
      "execution_count": null,
      "outputs": [
        {
          "output_type": "stream",
          "text": [
            "1 hola\n"
          ],
          "name": "stdout"
        }
      ]
    },
    {
      "cell_type": "code",
      "metadata": {
        "colab": {
          "base_uri": "https://localhost:8080/"
        },
        "id": "9ZvVuhCv8HIC",
        "outputId": "d00512c7-029f-4dd0-f7f0-0376635e119d"
      },
      "source": [
        "x,y = 1, \"hola\"\n",
        "\n",
        "print(f\"los valores de esta vaina son {x} y ademas {y}\")"
      ],
      "execution_count": null,
      "outputs": [
        {
          "output_type": "stream",
          "text": [
            "los valores de esta vaina son 1 y ademas hola\n"
          ],
          "name": "stdout"
        }
      ]
    },
    {
      "cell_type": "markdown",
      "metadata": {
        "id": "u79Qy3us-quM"
      },
      "source": [
        "# Operadores\n"
      ]
    },
    {
      "cell_type": "code",
      "metadata": {
        "colab": {
          "base_uri": "https://localhost:8080/"
        },
        "id": "KOEDDFte-uwl",
        "outputId": "cefbb498-f088-4e86-f1ca-73af20ecafa1"
      },
      "source": [
        "\"\"\"\n",
        "suma,resta,multiplicacion y division de valores\n",
        "\"\"\"\n",
        "#suma\n",
        "x=10\n",
        "y=20\n",
        "print(x+y)\n",
        "#resta\n",
        "num1,num2=50,100\n",
        "resta=num1-num2\n",
        "print(resta)\n",
        "#multiplicacion\n",
        "a=5.2\n",
        "b=4.7\n",
        "c=a*b\n",
        "print(\"el valor de la multiplicacion es:\"+str(c))\n",
        "#potencia\n",
        "num=2\n",
        "cuadrado=num**2\n",
        "print(\"el cuadrado del numero es:\", cuadrado)\n",
        "#division\n",
        "dividendo=-3\n",
        "divisor=2\n",
        "resultado=dividendo/divisor\n",
        "print(resultado)\n",
        "#division entera\n",
        "dividendo1=3\n",
        "divisor1=2\n",
        "resultado1=dividendo1//divisor1\n",
        "print(resultado1)\n",
        "#modulo\n",
        "dividendo2=5\n",
        "divisor2=2\n",
        "residuo=dividendo2%divisor2\n",
        "print(residuo) "
      ],
      "execution_count": null,
      "outputs": [
        {
          "output_type": "stream",
          "text": [
            "30\n",
            "-50\n",
            "el valor de la multiplicacion es:24.44\n",
            "el cuadrado del numero es: 4\n",
            "-1.5\n",
            "1\n",
            "1\n"
          ],
          "name": "stdout"
        }
      ]
    },
    {
      "cell_type": "markdown",
      "metadata": {
        "id": "O37jxYLBCXcY"
      },
      "source": [
        "# Orden de prioridad de operaciones"
      ]
    },
    {
      "cell_type": "code",
      "metadata": {
        "id": "rW91eSRACbUF",
        "colab": {
          "base_uri": "https://localhost:8080/"
        },
        "outputId": "be4b2aa9-560f-4a3f-8e05-de1fdcfc30f8"
      },
      "source": [
        "resultado1=10+10-5\n",
        "resultado2=10-10+5\n",
        "print(resultado1,\n",
        "      resultado2)\n",
        "resultado3=4/2*2**2\n",
        "print(resultado3)"
      ],
      "execution_count": null,
      "outputs": [
        {
          "output_type": "stream",
          "text": [
            "15 5\n",
            "8.0\n"
          ],
          "name": "stdout"
        }
      ]
    },
    {
      "cell_type": "code",
      "metadata": {
        "colab": {
          "base_uri": "https://localhost:8080/"
        },
        "id": "Zc3EXB_rCqOd",
        "outputId": "1f571e62-d77a-4044-a114-ba19d857c977"
      },
      "source": [
        "dias = 2208 / 30\n",
        "print(dias)\n",
        "meses = dias / 12\n",
        "print(meses)\n",
        "\n",
        "print(\"Perro\" * 6)\n",
        "\n",
        "# Orden de operaciones\n",
        "print(10//3)\n",
        "print(10%3)\n",
        "print(30//3)\n",
        "print((3 * 10//3) + 10%3)\n",
        "print(3 * (10//3) + 10%3)"
      ],
      "execution_count": null,
      "outputs": [
        {
          "output_type": "stream",
          "text": [
            "73.6\n",
            "6.133333333333333\n",
            "PerroPerroPerroPerroPerroPerro\n",
            "3\n",
            "1\n",
            "10\n",
            "11\n",
            "10\n"
          ],
          "name": "stdout"
        }
      ]
    },
    {
      "cell_type": "code",
      "metadata": {
        "colab": {
          "base_uri": "https://localhost:8080/"
        },
        "id": "4VpMwH710-L8",
        "outputId": "5c1d4be0-3b3c-4be0-c1ee-3d721e0d64cc"
      },
      "source": [
        "# Operador relacional\n",
        "print(0 == False, 1 == True)\n",
        "# Con listas, verifica cada núúmero\n",
        "print([1, 12] > [10, 10]) \n",
        "print(3<=2.99999999999999999)"
      ],
      "execution_count": null,
      "outputs": [
        {
          "output_type": "stream",
          "text": [
            "True True\n",
            "False\n",
            "True\n"
          ],
          "name": "stdout"
        }
      ]
    },
    {
      "cell_type": "code",
      "metadata": {
        "colab": {
          "base_uri": "https://localhost:8080/"
        },
        "id": "5oXK_IA-3zbw",
        "outputId": "ee154125-5826-4fb0-b04b-8410c982b883"
      },
      "source": [
        "# Operador lógico\n",
        "print(False and True or True or False)\n",
        "#       |         |\n",
        "#     False and True = False\n",
        "#                         |\n",
        "#               Fase or True = True\n",
        "#                                |\n",
        "#                       True or False = *True*\n",
        "\n",
        "print(\"Estoy\"\"\\n\"\"aprendiendo\"\"\\n\"\"python\")"
      ],
      "execution_count": null,
      "outputs": [
        {
          "output_type": "stream",
          "text": [
            "True\n",
            "Estoy\n",
            "aprendiendo\n",
            "python\n"
          ],
          "name": "stdout"
        }
      ]
    },
    {
      "cell_type": "markdown",
      "metadata": {
        "id": "Z3y2Shbrc33J"
      },
      "source": [
        "# Ejercicio de práctica \n",
        "Se puede ver el uso de `\\n` en el `print()` para imprimir salto de línea definido dentro de la misma función usando `cadenas f`: \n",
        "\n",
        ">  que simplifica la inserción de variables y expresiones en las cadenas. Una cadena \"f\" contiene variables y expresiones entre llaves `({})` que se sustituyen directamente por su valor. Las cadenas \"f\" se reconocen porque comienzan por una letra f antes de las comillas de apertura.\n",
        "> \n",
        "<a href=\"https://www.mclibre.org/consultar/python/lecciones/python-cadenas.html#cadenas-f\">Enlace a sección de cadenas de texto en mclibre.org</a>\n",
        "\n",
        "\n",
        "  "
      ]
    },
    {
      "cell_type": "code",
      "metadata": {
        "colab": {
          "base_uri": "https://localhost:8080/"
        },
        "id": "k1AK10D1wJ3h",
        "outputId": "8c4d77c9-34bf-4509-991f-3a006a5495d4"
      },
      "source": [
        "# Definimos las variables de las entradas\n",
        "producto = input(\"Producto: \")\n",
        "costo_unitario = int(input(\"CU: $\"))\n",
        "precio_venta = int(input(\"PVP: $\"))\n",
        "unidades_disponibles = int(input(\"Unidades disponibles: \"))\n",
        "\n",
        "ganancias = (unidades_disponibles * precio_venta) - (unidades_disponibles * costo_unitario)\n",
        "\n",
        "print(f\"Producto: {producto} \\n CU: ${costo_unitario} \\n PVP: ${precio_venta} \\n Unidades disponibles: {unidades_disponibles} \\n Ganancias: ${ganancias}\")"
      ],
      "execution_count": null,
      "outputs": [
        {
          "output_type": "stream",
          "text": [
            "Producto: Suck it\n",
            "CU: $40000\n",
            "PVP: $50000\n",
            "Unidades disponibles: 3\n",
            "Producto: Suck it \n",
            " CU: $40000 \n",
            " PVP: $50000 \n",
            " Unidades disponibles: 3 \n",
            " Ganancias: $30000\n"
          ],
          "name": "stdout"
        }
      ]
    },
    {
      "cell_type": "markdown",
      "metadata": {
        "id": "os1e520YF_z7"
      },
      "source": [
        "## Ejercicio de práctica\n",
        "Se pide la fecha de nacimiento y se opera según el formato de la entrada"
      ]
    },
    {
      "cell_type": "code",
      "metadata": {
        "id": "L0HRiqp_GEWl"
      },
      "source": [
        "fecha= int(input(\"Fecha en formato DDMMAAAA: \"))\n",
        "#Operaciones con formato entero para extraer fecha\n",
        "dia=fecha//1000000\n",
        "mes=(fecha//10000)%100\n",
        "anHo=fecha%10000\n",
        "print(\"Su dia de nacimiento es:\", dia,\"/\",mes,\"/\",anHo)\n",
        "\n",
        "fecha=(str(fecha))\n",
        "#Operaciones con formato string (cadena) para extraer fecha\n",
        "dia=fecha[:2]\n",
        "mes=fecha[2:4]\n",
        "anHo=fecha[4:]\n",
        "\n",
        "print(\"Su fecha es: \"+dia+\"/\"+mes+\"/\"+anHo)"
      ],
      "execution_count": null,
      "outputs": []
    },
    {
      "cell_type": "markdown",
      "metadata": {
        "id": "hi232dU3u6L8"
      },
      "source": [
        "# Ejercicio de práctica"
      ]
    },
    {
      "cell_type": "markdown",
      "metadata": {
        "id": "pJLqsZ97I0j_"
      },
      "source": [
        "Una pareja de motociclistas  necesita saber ciertas cosas antes de emprender su viaje en moto. Necesitan saber cuántos tanques de combustible consumirán en todo el viaje. \n",
        "Para eso deben ingresar, cuántos kilometros puede recorrer su moto por 1 litro de combustible, qué capacidad (en litros) tiene el tanue y cuántos kilometros en total recorrerán. \n",
        "Hacer un programa que solicite los datos y luego informe la cantidad de tanques de combustible necesarios."
      ]
    },
    {
      "cell_type": "code",
      "metadata": {
        "colab": {
          "base_uri": "https://localhost:8080/"
        },
        "id": "6ihPFnqzJppP",
        "outputId": "939d42bd-c250-460b-e16a-d51537d8953f"
      },
      "source": [
        "capacidad=float(input(\"Cuántos litros de capacidad tiene el tanque: \"))\n",
        "kmLitro=float(input(\"Cuántos kilometros por litros recorre: \"))\n",
        "recorrido=float(input(\"Cuántos kilometros recorrerá: \"))\n",
        "kmxtanque=capacidad*kmLitro\n",
        "\n",
        "print(\"Serán necesarios: \", recorrido/kmxtanque, \"tanques.\")"
      ],
      "execution_count": null,
      "outputs": [
        {
          "output_type": "stream",
          "text": [
            "Cuántos litros de capacidad tiene el tanque: 4\n",
            "Cuántos kilometros por litros recorre: 15\n",
            "Cuántos kilometros recorrerá: 150\n",
            "Serán necesarios:  2.5 tanques.\n"
          ],
          "name": "stdout"
        }
      ]
    },
    {
      "cell_type": "markdown",
      "metadata": {
        "id": "pGLF4tmcyk61"
      },
      "source": [
        "## Análisis del reto 1\n",
        "La empresa de juegos Toy & Joy, quiere montar un nuevo servicio en el cual las personas intentarán encestar pelotas en una maquina y según la puntuación final que tengan podrán elegir entre 4 tipos diferentes de premios en la caja registradora. Los premios son variados, los de tipo uno es bastante económicos y comunes, los de tipo dos son un poco más elaborados, los del tipo tres son premios raros, mientras que los del tipo 4 son de colección.\n",
        "\n",
        "Al finalizar la partida si consigue una puntuación de más de 50 podrá elegir un premio tipo cuatro, si el participante consigue más de 30 puntos podrá elegir un premio tipo del tipo tres, si consigue más de 20 el participante podrá elegir un premio tipo dos, pero si la persona consigue 20 puntos o menos tendrá que elegir un premio del tipo uno.\n",
        "\n",
        "La puntuación final se calcula dividiendo entre 5 la suma de los puntos de habilidad del  participante (lo concedido por la maquina) y el número de veces que haya logrado encestar la pelota a lo largo de la partida. Cada participante comienza con 4 puntos de habilidad, pero la maquina le concede dos puntos de habilidad más por cada vez que consiga encestar.\n",
        "\n",
        "Entrada:\n",
        "\n",
        "- Número de veces que el participante pudo encestar la pelota a lo largo de la partida\n",
        "\n",
        "Salida:\n",
        "\n",
        "- Número de veces que encesto el participante\n",
        "- Puntos de habilidad del participante\n",
        "- Puntuación final de participante\n",
        "- Tipo de premio que podrá elegir el participante."
      ]
    },
    {
      "cell_type": "code",
      "metadata": {
        "id": "7RoKeIoOyrdd",
        "colab": {
          "base_uri": "https://localhost:8080/"
        },
        "outputId": "c901ee33-fc4f-4b60-8f1e-cedd155ff1eb"
      },
      "source": [
        "def tipos(puntuacion_final):\n",
        "  if puntuacion_final < 20:\n",
        "    return (\"Uno\")\n",
        "  elif puntuacion_final < 30:\n",
        "    return (\"Dos\")\n",
        "  elif puntuacion_final < 50:\n",
        "    return (\"Tres\")\n",
        "  else:\n",
        "    return (\"Cuatro\") \n",
        "\n",
        "'''\n",
        "Cuatro = +51 #Econóómicos y comunes\n",
        "Tres = 50 - 31 # Más elaborados\n",
        "Dos = 30 - 21 # Premios raros\n",
        "Uno = 20 - 0 # Colección\n",
        "'''\n",
        "encestados = int(input(\"Ingrese el número de veces encestadas: \"))\n",
        "puntos_habilidad = 4 + (2 * encestados)\n",
        "\n",
        "puntuacion_final = int((puntos_habilidad + encestados) / 5)\n",
        "\n",
        "print(encestados, puntos_habilidad, puntuacion_final, tipos(puntuacion_final))\n"
      ],
      "execution_count": null,
      "outputs": [
        {
          "output_type": "stream",
          "text": [
            "Ingrese el número de veces encestadas: 93\n",
            "93 190 56 Cuatro\n"
          ],
          "name": "stdout"
        }
      ]
    },
    {
      "cell_type": "markdown",
      "metadata": {
        "id": "PHb1-rh_coAa"
      },
      "source": [
        "# Función con dos valores de entrada\n"
      ]
    },
    {
      "cell_type": "code",
      "metadata": {
        "colab": {
          "base_uri": "https://localhost:8080/"
        },
        "id": "gEx-GI6rcQAH",
        "outputId": "40c95f52-fad5-4eb8-86fd-500064aac96a"
      },
      "source": [
        "def area_rectangulo(l, a):\n",
        "  area = l * a\n",
        "  return area\n",
        "largo = float(input(\"Largo del rectángulo: \"))\n",
        "ancho = float(input(\"Ancho del rectángulo: \"))\n",
        "print(\"El área del rectángulo es:\", end = \" \")\n",
        "print(area_rectangulo(largo, ancho))\n"
      ],
      "execution_count": null,
      "outputs": [
        {
          "output_type": "stream",
          "text": [
            "Largo del rectángulo: 7\n",
            "Ancho del rectángulo: 3\n",
            "El área del rectángulo es: 21.0\n"
          ],
          "name": "stdout"
        }
      ]
    },
    {
      "cell_type": "markdown",
      "metadata": {
        "id": "UVjj0QIXcwJ7"
      },
      "source": [
        "# Función para hallar valor absoluto"
      ]
    },
    {
      "cell_type": "code",
      "metadata": {
        "colab": {
          "base_uri": "https://localhost:8080/"
        },
        "id": "pE5_1zG3bwjY",
        "outputId": "255630a4-dfbb-4b75-80d5-94b2f634af33"
      },
      "source": [
        "def valor_absoluto(x):\n",
        "  if x >= 0:\n",
        "    valor = x\n",
        "  else:\n",
        "    valor = -x\n",
        "  return valor\n",
        "x = float(input(\"Ingrese un número real x: \"))\n",
        "valor_abs = valor_absoluto(x)\n",
        "print(\"El valor absoluto de \" + str(x), end = \" \")\n",
        "print(\"es \" + str(valor_abs))"
      ],
      "execution_count": null,
      "outputs": [
        {
          "output_type": "stream",
          "text": [
            "Ingrese un número real x: 75\n",
            "El valor absoluto de 75.0 es 75.0\n"
          ],
          "name": "stdout"
        }
      ]
    },
    {
      "cell_type": "markdown",
      "metadata": {
        "id": "OVlVoV7jjQrN"
      },
      "source": [
        "# Impresión de números con signo"
      ]
    },
    {
      "cell_type": "code",
      "metadata": {
        "colab": {
          "base_uri": "https://localhost:8080/"
        },
        "id": "0MkiJk9zjTp_",
        "outputId": "bd82cca8-345c-4a62-fd5d-6a4c6ffaa1f9"
      },
      "source": [
        "def imprimir_numero(x):\n",
        "  if x >= 0.0:\n",
        "    print(\"+\", end = \"\")\n",
        "  print(x)\n",
        "  return x\n",
        "\n",
        "imprimir_numero(8.7)"
      ],
      "execution_count": null,
      "outputs": [
        {
          "output_type": "stream",
          "text": [
            "+8.7\n"
          ],
          "name": "stdout"
        },
        {
          "output_type": "execute_result",
          "data": {
            "text/plain": [
              "8.7"
            ]
          },
          "metadata": {
            "tags": []
          },
          "execution_count": 22
        }
      ]
    },
    {
      "cell_type": "markdown",
      "metadata": {
        "id": "dWGt8WwzoE9Y"
      },
      "source": [
        "# Condicional como operador\n",
        "Para ello se construye la función "
      ]
    },
    {
      "cell_type": "code",
      "metadata": {
        "id": "SUnhU0cfoHSC"
      },
      "source": [
        "def condicional(p, q):\n",
        "  if p == True and q == False:\n",
        "    return False\n",
        "  else:\n",
        "    return True"
      ],
      "execution_count": null,
      "outputs": []
    },
    {
      "cell_type": "markdown",
      "metadata": {
        "id": "lmu_yVrzozov"
      },
      "source": [
        "# Condicional como operador\n",
        "En la que se tiene en cuenta que si la premisa `p` tiene valor `True`,\n",
        "entonces el resultado está dado por el valor de la conclusión `q` (en este caso se arroja el mismo valor de `q`), y si el valor de `p` es `False`, entonces el condicional tendrá como valor `True`."
      ]
    },
    {
      "cell_type": "code",
      "metadata": {
        "id": "YN9Y_JvKo7K1"
      },
      "source": [
        "def condicional(p, q):\n",
        "  if p:\n",
        "    return q\n",
        "  return True\n",
        "\n",
        "condicional(0, 1)\n",
        "help()"
      ],
      "execution_count": null,
      "outputs": []
    },
    {
      "cell_type": "markdown",
      "metadata": {
        "id": "Drq7USZur7ft"
      },
      "source": [
        "# Ejercicio condicional\n",
        "Dado un número entero, determinar si ese número corresponde al\n",
        "código ASCII de una vocal minúscula. Ayuda: utilice la función\n",
        "`chr(<número>)` de Python que retorna el carácter ASCII\n",
        "correspondiente al número entero en el cual se evalúe la función."
      ]
    },
    {
      "cell_type": "code",
      "metadata": {
        "id": "-U1a4RquHD6s"
      },
      "source": [
        "valor = int(input('Ingrese un número entero: '))\n",
        "\n",
        "while 65 > valor or valor > 90 :\n",
        "        print(chr(valor))\n",
        "        valor = int(input('Ingrese un número entero: '))\n",
        "\n",
        "print(chr(valor))\n",
        "print('Fin')"
      ],
      "execution_count": null,
      "outputs": []
    },
    {
      "cell_type": "markdown",
      "metadata": {
        "id": "bRbtukOewm7o"
      },
      "source": [
        "Calcular el área de un triángulo que tiene una base de 4.5 cm y una altura de 3.8 cm."
      ]
    },
    {
      "cell_type": "code",
      "metadata": {
        "id": "w0YYFoPnPN7B",
        "colab": {
          "base_uri": "https://localhost:8080/"
        },
        "outputId": "fca073e5-ac8f-48af-ff07-da792f2e0db6"
      },
      "source": [
        "base=4.5\n",
        "altura=3.8\n",
        "area=(base*altura)/2\n",
        "print(\"El area del triangulo con base {} y altura {} es: {}\".format(base,altura,area.__round__(3)))"
      ],
      "execution_count": null,
      "outputs": [
        {
          "output_type": "stream",
          "text": [
            "El area del triangulo con base 4.5 y altura 3.8 es: 8.55\n"
          ],
          "name": "stdout"
        }
      ]
    },
    {
      "cell_type": "code",
      "metadata": {
        "colab": {
          "base_uri": "https://localhost:8080/"
        },
        "id": "203BweOHcPrJ",
        "outputId": "63da665a-3bfc-4655-a27d-24b0b421894b"
      },
      "source": [
        "def area(base,altura):\n",
        "  return base * altura / 2\n",
        "base = float(input(\"Ingrese la base \"))\n",
        "altura = float(input(\"Ingrese la altura \"))\n",
        "print(\"El area del triangulo es :\", area(base, altura))\n"
      ],
      "execution_count": null,
      "outputs": [
        {
          "output_type": "stream",
          "text": [
            "Ingrese la base 3.8\n",
            "Ingrese la altura 4.5\n",
            "EL area del triangulo es : 8.549999999999999\n"
          ],
          "name": "stdout"
        }
      ]
    },
    {
      "cell_type": "code",
      "metadata": {
        "id": "ol2IqdHzfIMH"
      },
      "source": [
        "from math import pi \n",
        "\n",
        "def volumen()\n",
        "  altura = float(input(\"Ingrese la altura \"))\n",
        "  radio float(input(\"Ingrese el radio \"))\n",
        "  return (pi*radio**2*altura)/3"
      ],
      "execution_count": null,
      "outputs": []
    },
    {
      "cell_type": "markdown",
      "metadata": {
        "id": "Kwop9Sx7wvtk"
      },
      "source": [
        "Calcular el valor de unos artículos con descuento"
      ]
    },
    {
      "cell_type": "code",
      "metadata": {
        "colab": {
          "base_uri": "https://localhost:8080/"
        },
        "id": "8oGOLXFpjAxF",
        "outputId": "0cedb49a-2a78-4729-8134-c7dd226f9d63"
      },
      "source": [
        "def Valor_pagar(valor):\n",
        "  return valor*0.8\n",
        "def Descuento(valor):\n",
        "  return valor*0.2\n",
        "\n",
        "def main():\n",
        "  n = int(input(\"ingrese el numero de articulos: \"))\n",
        "  valor = 0\n",
        "  for i in range(n):\n",
        "    a = float(input(f\"ingrese el valor del articulo {i+1}: \"))\n",
        "    valor +=a\n",
        "\n",
        "  print(f\"El valor a pagar es: {Valor_pagar(valor)}\\nEl descuento fue de: {Descuento(valor)}\")\n",
        "\n",
        "main()\n"
      ],
      "execution_count": null,
      "outputs": [
        {
          "output_type": "stream",
          "text": [
            "ingrese el numero de articulos: 1\n",
            "ingrese el valor del articulo 1: 100\n",
            "El valor a pagar es: 80.0\n",
            "El descuento fue de: 20.0\n"
          ],
          "name": "stdout"
        }
      ]
    },
    {
      "cell_type": "markdown",
      "metadata": {
        "id": "aPv2VuyZjXeY"
      },
      "source": [
        "# Análisis Reto 2\n",
        "Dos empleados de una sala de cine están discutiendo, la razón de la discusión, radica en definir cuáles son las filas de preferencia que suelen tener los clientes cuando ingresan en un día a la sala de cine. \n",
        "\n",
        "Dicha discusión se arreglará por medio de un juego donde cada uno va a escoger sin repetir cierta cantidad de letras las cuales están asociadas a una fila completa de sillas, y esperarán a ver que los usuarios escojan su asiento, si el usuario escogió un asiento ubicado en las filas escogidas por el empleado 1 se le dará un punto al empleado 1, si en caso contrario escogió una silla ubicada en las filas escogidas por el empleado 2 se le dará un punto al empleado 2, finalmente, si el usuario se sienta en una fila diferente a las marcadas por los 2 empleados no se le dará punto a ninguno.\n",
        "\n",
        "Cada que un usuario nuevo se siente, se comparan quien de los dos empleados tiene más puntos, en caso tal que el empleado 1 tenga más puntos, se escribirá “E” en un tablero, en caso contrario, si es el empleado 2, se escribirá “T”, si están empatados se escribirá “N” en el tablero.\n",
        "\n",
        "Usted deberá construir un programa que acepte: La cadena de letras escogidas por el empleado 1, la cadena de letras escogidas por el empleado 2, la cadena de letras asociada a la fila de cada usuario que se ubicó en un asiento hasta el final del día, y deberá retornar una cadena de letras que indiquen como quedó el tablero al final del día.\n",
        "\n",
        "1. Ejemplo:\n",
        "  - Entrada\n",
        "    - Letras escogidas por el empleado 1: BEHCIF \n",
        "    - Letras escogidas por el empleado 2: FCBIGE\n",
        "    - Filas donde se sentaron los usuarios: GHBHAGIIDIEBDGFGAEIHDDF\n",
        "  - Salida\n",
        "\n",
        "    - Resultado de la pizarra al final del día: TNNEENNNNNNNNTTTTTTTTTT"
      ]
    },
    {
      "cell_type": "code",
      "metadata": {
        "colab": {
          "base_uri": "https://localhost:8080/"
        },
        "id": "wy2w3wedyF_I",
        "outputId": "edb85215-715c-42b7-e67c-fd68f3ef9423"
      },
      "source": [
        "'''\n",
        "teniendo las cadenas, \n",
        "1 se debe comparar la primera posicion con las filas de los empleados\n",
        "2 si coincide la primera posicion con alguna fila definida, sumar un punto al empleado\n",
        "3 mientras un empleado tenga ventaja, se debe imprimir la letra que le corresponde: E para el primero, T para el segundo y N en el momento de empate\n",
        "'''\n",
        "\n",
        "empleado1 = str(input()) # BEHCIF\n",
        "empleado2 = str(input()) # FCBIGE\n",
        "filas_usuarios = str(input()) # GHBHAGIIDIEBDGFGAEIHDDF\n",
        "puntos1 = 0\n",
        "puntos2 = 0\n",
        "\n",
        "for letras in filas_usuarios:\n",
        "  if letras in empleado1: \n",
        "    puntos1 += 1\n",
        "\n",
        "  if letras in empleado2:\n",
        "    puntos2 += 1\n",
        "  \n",
        "    \n",
        "  if puntos1 > puntos2:\n",
        "        print(\"E\", end=\"\")\n",
        "  elif puntos2 > puntos1:\n",
        "        print(\"T\", end=\"\")\n",
        "  else:\n",
        "    print(\"N\", end=\"\")\n",
        "\n"
      ],
      "execution_count": null,
      "outputs": [
        {
          "output_type": "stream",
          "text": [
            "BEHCIF\n",
            "FCBIGE\n",
            "GHBHAGIIDIEBDGFGAEIHDDF\n",
            "TNNEENNNNNNNNTTTTTTTTTT"
          ],
          "name": "stdout"
        }
      ]
    },
    {
      "cell_type": "markdown",
      "metadata": {
        "id": "IZ1LWP_2bNtH"
      },
      "source": [
        "# Añadir salto de línea a un determinado texto\n",
        "Dentro de una función, se usa `enumerate` con dos variables `indice` y `palabra` para el `for`. El salto de línea es `\\n`"
      ]
    },
    {
      "cell_type": "code",
      "metadata": {
        "colab": {
          "base_uri": "https://localhost:8080/"
        },
        "id": "H1S8ChkZuS_x",
        "outputId": "1e48bcec-7ca6-42ab-ffeb-0d85ae4e6624"
      },
      "source": [
        "def salto_linea_nombre(nombre_empresa):\n",
        "    \"\"\"\n",
        "    Separa el nombre y cuenta el numero de palabras para inserta un salto de linea en medio de ellas\n",
        "    :param nombre_empresa:\n",
        "    :return: salto_nombre\n",
        "    \"\"\"\n",
        "\n",
        "    separacion = nombre_empresa.split()\n",
        "    pibote = len(separacion) // 2 - 1\n",
        "    salto_nombre = \"\"\n",
        "    for indice, palabra in enumerate(separacion):\n",
        "        salto_nombre = salto_nombre + \" \" + palabra\n",
        "        if pibote == indice:\n",
        "           salto_nombre = salto_nombre + \"\\n\"\n",
        "\n",
        "    return salto_nombre\n",
        "\n",
        "print(salto_linea_nombre(\"stack overflow en español, voy a poner más palabras para ver qué pasa\"))"
      ],
      "execution_count": null,
      "outputs": [
        {
          "output_type": "stream",
          "text": [
            " stack overflow en español voy a\n",
            " poner más palabras para ver qué pasa\n"
          ],
          "name": "stdout"
        }
      ]
    },
    {
      "cell_type": "markdown",
      "metadata": {
        "id": "Kp2BjtmGVq5B"
      },
      "source": [
        "# Crear lista anidada con `for`\n",
        "Donde `i` es la iteración inicial y `j` es iteración de la lista anidada de la iteración `i`"
      ]
    },
    {
      "cell_type": "code",
      "metadata": {
        "colab": {
          "base_uri": "https://localhost:8080/"
        },
        "id": "0jj_3MEAG4YE",
        "outputId": "266f19dc-e5c8-422a-db15-7046dc5cca4d"
      },
      "source": [
        "lst = [] \n",
        "\n",
        "for i in range(5):\n",
        "    lst.append([])\n",
        "    #print(\"Si\")\n",
        "    if i !=2: \n",
        "      for j in range(4): \n",
        "        lst[i].append(j) \n",
        "        #print(\"SiSi\")\n",
        "print(lst) \n"
      ],
      "execution_count": null,
      "outputs": [
        {
          "output_type": "stream",
          "text": [
            "[[0, 1, 2, 3], [0, 1, 2, 3], [], [0, 1, 2, 3], [0, 1, 2, 3]]\n"
          ],
          "name": "stdout"
        }
      ]
    },
    {
      "cell_type": "markdown",
      "metadata": {
        "id": "C4T7Uokqd_5Q"
      },
      "source": [
        "# Creando listas con `input` y `for`\n",
        "Creando listas con una variable de iteraciones definidas en el `rango` llamando la variable `tamaño`, usa `i + 1`"
      ]
    },
    {
      "cell_type": "code",
      "metadata": {
        "colab": {
          "base_uri": "https://localhost:8080/"
        },
        "id": "fR26Mpy8cynV",
        "outputId": "3185e1f3-ffac-4078-9954-6e8f9e7ffca3"
      },
      "source": [
        " # Creamos las listas (vacías al comienzo)\n",
        "nombres = []\n",
        "identificaciones = []\n",
        "\n",
        "# Definimos un tamaño para las listas\n",
        "# Lo puedes cambiar si quieres\n",
        "tamaño = 2\n",
        "\n",
        "# Leemos los datos y los agregamos a la lista\n",
        "for i in range(tamaño):\n",
        "    print(\"Ingrese los datos de la persona\", i + 1)\n",
        "    nombre = input(\"Nombre: \")\n",
        "    identificación = input(\"Identificación: \")\n",
        "\n",
        "    nombres.append(nombre)\n",
        "    identificaciones.append(identificación)\n",
        "\n",
        "# Ahora mostremos las listas\n",
        "for i in range(tamaño):\n",
        "    print(\"Mostrando los datos de la persona\", i + 1)\n",
        "\n",
        "    print(\"Nombre:\", nombres[i])\n",
        "    print(\"Identificación:\", identificaciones[i])\n",
        "\n",
        "print(nombres,identificaciones)\n"
      ],
      "execution_count": null,
      "outputs": [
        {
          "output_type": "stream",
          "text": [
            "Ingrese los datos de la persona\n",
            "Nombre: Yo\n",
            "Identificación: La\n",
            "Ingrese los datos de la persona\n",
            "Nombre: El\n",
            "Identificación: La\n",
            "Mostrando los datos de la persona 1\n",
            "Nombre: Yo\n",
            "Identificación: La\n",
            "Mostrando los datos de la persona 2\n",
            "Nombre: El\n",
            "Identificación: La\n",
            "['Yo', 'El'] ['La', 'La']\n"
          ],
          "name": "stdout"
        }
      ]
    },
    {
      "cell_type": "markdown",
      "metadata": {
        "id": "nwhd3TCr7gT0"
      },
      "source": [
        "### Función para contar los caracteres de un `string` sin contar espacios o comas\n"
      ]
    },
    {
      "cell_type": "code",
      "metadata": {
        "colab": {
          "base_uri": "https://localhost:8080/"
        },
        "id": "t7og2Oxw6ikM",
        "outputId": "4045386e-eb8e-48da-b8d5-3f179980a665"
      },
      "source": [
        "def count_letters(ejemplo):                         \n",
        "  return len(ejemplo) - ejemplo.count(' ') - ejemplo.count(',')\n",
        "\n",
        "count_letters(\"cómo es, cómo seria\")"
      ],
      "execution_count": 1,
      "outputs": [
        {
          "output_type": "execute_result",
          "data": {
            "text/plain": [
              "15"
            ]
          },
          "metadata": {},
          "execution_count": 1
        }
      ]
    },
    {
      "cell_type": "markdown",
      "metadata": {
        "id": "VIR7WGMm-mo0"
      },
      "source": [
        "# Análisis Reto 3\n",
        "\n"
      ]
    },
    {
      "cell_type": "markdown",
      "metadata": {
        "id": "oVbd7zvK-p7p"
      },
      "source": [
        "Usted es el director de un nuevo evento para la alcaldía de un municipio, para el evento los asistentes deberían registrar su llegada con unas boletas entregadas previamente, cada boleta tiene una sucesión de dígitos generada aleatoriamente, estas boletas se usarán para una rifa al final del día, pero únicamente participaran ciertas boletas.\n",
        "\n",
        "Para determinar qué boletas participarán, usted deberá generar un programa que acepte como entrada los primeros dígitos de las boletas a medida que se fueron recibiendo en la entrada, y revise cuantas veces seguidas se repite tal digito, deberá imprimir la lista con los dígitos como se fueron viendo, separadas por un espacio, y otra lista que serán las veces seguidas que vieron dicho dígito, separadas por un espacio.\n",
        "\n",
        "<table>\n",
        "    <tr>\n",
        "    <td>Caso </td><td>0</td>\n",
        "    </tr>\n",
        "    <tr>\n",
        "    <td>Input</td><td>C C C C A A A E E E D D D D D D C C C F F F F C D D D C C C</td>\n",
        "    </tr>\n",
        "    <tr>\n",
        "    <td>Output</td><td>C A E D C F C D C</td>\n",
        "    <tr>\n",
        "    <td></td><td>4 3 3 6 3 4 1 3 3</td>\n",
        "    </tr>\n",
        "</table>\n",
        "\n",
        "<table>\n",
        "    <tr>\n",
        "    <td>Caso </td><td>1</td>\n",
        "    </tr>\n",
        "    <tr>\n",
        "    <td>Input</td><td>F F F F B D E C C C C C C C C C C C C C F F F B B B</td>\n",
        "    </tr>\n",
        "    <tr>\n",
        "    <td>Output</td><td>F B D E C F B</td>\n",
        "    <tr>\n",
        "    <td></td><td>4 1 1 1 13 3 3</td>\n",
        "    </tr>\n",
        "</table>\n",
        "\n",
        "<table>\n",
        "    <tr>\n",
        "    <td>Caso </td><td>2</td>\n",
        "    </tr>\n",
        "    <tr>\n",
        "    <td>Input</td><td>B B C D D D C E E E E D D D B E E E E D D D B B B</td>\n",
        "    </tr>\n",
        "    <tr>\n",
        "    <td>Output</td><td>B C D C E D B E D B</td>\n",
        "    <tr>\n",
        "    <td></td><td>2 1 3 1 4 3 1 4 3 3</td>\n",
        "    </tr>\n",
        "</table>\n"
      ]
    },
    {
      "cell_type": "code",
      "metadata": {
        "id": "YVxooFRyBYwE"
      },
      "source": [
        "entrada=input().split()\n",
        "entrada.append(\"Fin\")\n",
        "\n",
        "def repeticiones(A):\n",
        "  m = 0\n",
        "  repe=0\n",
        "  lisLetras=[]\n",
        "  lisNum=[]\n",
        "  for i in range(0,len(A)):\n",
        "    if A[i] == A[m]:\n",
        "      repe +=1\n",
        "    else: \n",
        "      lisNum.append(repe)\n",
        "      lisLetras.append(A[m])\n",
        "      repe = 1\n",
        "      m = i\n",
        "  print(\" \".join(lisLetras))\n",
        "  print(*lisNum, sep=\" \")\n",
        "repeticiones(entrada)"
      ],
      "execution_count": null,
      "outputs": []
    },
    {
      "cell_type": "code",
      "metadata": {
        "colab": {
          "base_uri": "https://localhost:8080/"
        },
        "id": "iy-y09GASpbv",
        "outputId": "c1526187-89a3-40c0-9ec4-a081842e32ab"
      },
      "source": [
        "entrada=input().split()   #Se pide entrada y se vuelve lista\n",
        "Numeros=[]  #Se definen listas vacias para operar\n",
        "liscopy=[]\n",
        "Letras=[]\n",
        "liscopy.extend(entrada)  # Se hace copia de la lista\n",
        "\n",
        "for letra in entrada: #Para cada elemento dentro de la entrada\n",
        "  if Letras.count(letra)==0: #Si la cuenta de los elementos de la lista es 0\n",
        "    Letras.append(letra)  #Meta la letra a la lista\n",
        "  elif letra != Letras[len(Letras)-1]: #Si i no es igual a alguna otra en la lista\n",
        "    Letras.append(letra)  #Meta la letra a la lista\n",
        "for caso in Letras: #Para cada elemento de la lista creada\n",
        "  contador=0    #Ponga contador en 0\n",
        "  #print(caso)\n",
        "  while caso == liscopy[0]:  #Mientras elemento iterado sea igual al elemento en indice 0 de lista copia (la copia de lista de entrada)\n",
        "    contador +=1      #Sume 1 al contador\n",
        "    #print(\"indice\",liscopy[0])\n",
        "    #print(contador)\n",
        "    #print(len(liscopy))\n",
        "    if len(liscopy)==1:  #Si la longitud de lista copia es igual a 1 (esto es porque la longitud va disminuyendo)\n",
        "      caso=0      #Ponga el iterador en 0 (para dejar de iterar)\n",
        "    else:       #Si la longitud no es igual a 1\n",
        "      liscopy.pop(0)   #Elimine el elemento del indice 0 (va eliminando de la lista copia los elementos \n",
        "                        #y se asegura de que la condición del while sea verdadera para segiur iterando hasta el final)\n",
        "      #print(liscopy)\n",
        "  Numeros.append(contador)  #Meta el numero que va de contador a la lista\n",
        "  #print(Numeros)\n",
        "print(*Letras) #Saque en pantalla las listas\n",
        "print(*Numeros)"
      ],
      "execution_count": null,
      "outputs": [
        {
          "output_type": "stream",
          "text": [
            "C F F F G G F A\n",
            "C F G F A\n",
            "1 3 2 1 1\n"
          ],
          "name": "stdout"
        }
      ]
    },
    {
      "cell_type": "markdown",
      "metadata": {
        "id": "8Rw58IaADd5B"
      },
      "source": [
        "### Uso del método pop"
      ]
    },
    {
      "cell_type": "code",
      "metadata": {
        "colab": {
          "base_uri": "https://localhost:8080/"
        },
        "id": "ID9Zzl0p8dws",
        "outputId": "06500074-8972-4432-e284-e606e7abc6a9"
      },
      "source": [
        "ciudades = ['New York', 'Dallas', 'San Antonio', 'Houston', 'San Francisco']\n",
        "\n",
        "print ( \"Ciudad removida : \", ciudades.pop() )\n",
        "print ( \"La ciudad en el indice 2 es : \", ciudades.pop(2) )\n",
        "print(ciudades)"
      ],
      "execution_count": null,
      "outputs": [
        {
          "output_type": "stream",
          "text": [
            "Ciudad removida :  San Francisco\n",
            "La ciudad en el indice 2 es :  San Antonio\n",
            "['New York', 'Dallas', 'Houston']\n"
          ],
          "name": "stdout"
        }
      ]
    },
    {
      "cell_type": "markdown",
      "metadata": {
        "id": "WmxunhfBm6oR"
      },
      "source": [
        "#Reto 4\n",
        "Usted ha estado ahorrando un tiempo y desea comprarse partes nuevas para un computador y ensamblarlo, por lo tanto, va a una tienda especializada que vende las partes que usted necesita a comprar según el precio. Usted ha creado una pequeña lista con los códigos de las partes específicas que desea comprar a la vez que también desea saber los códigos y los precios de las partes que tienen en la tienda y puede adquirir. Se debe realizar un programa que dado un diccionario (en notación JSON), con parejas código: precio, de todas las partes que tiene la tienda para la venta y teniendo la lista de códigos de las partes que usted desea comprar, imprima tanto el código de cada parte para comprar, como su respectivo precio de venta.\n",
        "\n",
        "<table>\n",
        "    <tr>\n",
        "    <td>Ejemplo </td><td>1</td><td></td>\n",
        "    </tr>\n",
        "    <tr>\n",
        "    <td>Input</td><td>{\"g\": 357, \"f\": 252, \"e\": 8, \"d\": 1000}</td><td>e h a f</td>\n",
        "    </tr>\n",
        "    <tr>\n",
        "    <td>Output</td><td>260</td><td></td>\n",
        "    <tr>\n",
        "    <td></td><td>e f</td><td></td>\n",
        "    </tr>\n",
        "</table>\n",
        "<table>\n",
        "    <tr>\n",
        "    <td>Ejemplo </td><td>2</td><td></td>\n",
        "    </tr>\n",
        "    <tr>\n",
        "    <td>Input</td><td>{\"g\": 278, \"a\": 901, \"f\": 973, \"e\": 987}</td><td>a b c</td>\n",
        "    </tr>\n",
        "    <tr>\n",
        "    <td>Output</td><td>901</td><td></td>\n",
        "    <tr>\n",
        "    <td></td><td>a</td><td></td>\n",
        "    </tr>\n",
        "</table>\n",
        "<table>\n",
        "    <tr>\n",
        "    <td>Ejemplo </td><td>3</td><td></td>\n",
        "    </tr>\n",
        "    <tr>\n",
        "    <td>Input</td><td>{\"b\": 258, \"g\": 524, \"c\": 983, \"a\": 103}</td><td>d g b</td>\n",
        "    </tr>\n",
        "    <tr>\n",
        "    <td>Output</td><td>782</td><td></td>\n",
        "    <tr>\n",
        "    <td></td><td>g b</td><td></td>\n",
        "    </tr>\n",
        "</table>"
      ]
    },
    {
      "cell_type": "code",
      "metadata": {
        "id": "JBtOxNKHm8XL",
        "colab": {
          "base_uri": "https://localhost:8080/"
        },
        "outputId": "9cfa29d0-6377-4cd4-df5f-40a9c165bbc2"
      },
      "source": [
        "import json\n",
        "cadenaEntrada=input()\n",
        "parteTienda=input().split()\n",
        "dic_python=json.loads(cadenaEntrada)\n",
        "cont=0\n",
        "partes=[]\n",
        "for i in parteTienda:\n",
        "  for j in dic_python:\n",
        "    if i == j:\n",
        "      cont+= dic_python.get(i)\n",
        "      partes.append(j)\n",
        "\n",
        "print(cont)\n",
        "print(*partes)\n"
      ],
      "execution_count": null,
      "outputs": [
        {
          "output_type": "stream",
          "text": [
            "{\"g\": 357, \"f\": 252, \"e\": 8, \"d\": 1000}\n",
            "e h a f\n",
            "260\n",
            "e f\n"
          ],
          "name": "stdout"
        }
      ]
    },
    {
      "cell_type": "code",
      "metadata": {
        "colab": {
          "base_uri": "https://localhost:8080/"
        },
        "id": "JfdOuVeidmb2",
        "outputId": "00d5f897-bb5d-4b2f-9f02-8857e1735812"
      },
      "source": [
        "jsonString=input()  #Pide entradas\n",
        "Lesta=input()\n",
        "import json   #Importa libreria\n",
        "diccionArio=json.loads(jsonString)  #Usa metodo de libreria para convertir en diccionario Pyhton\n",
        "\n",
        "def leerlista(Lesta): #Funcion para pasar a lista\n",
        "  return input().split()\n",
        "preCio=0    #Se define variable de aumento y lista vacia de salida\n",
        "salida=[]\n",
        "\n",
        "for i in range(len(Lesta)):   #Se itera en la lista\n",
        "  if (Lesta[i] in diccionArio):   #Si el elemento esta en el diccionario\n",
        "      salida.append(Lesta[i])   #Meta el elemento en la lista de salida\n",
        "      preCio += diccionArio[Lesta[i]]   #Sume los valores de las claves\n",
        "\n",
        "print(preCio)   #Saque a pantalla\n",
        "print(\" \".join(salida))"
      ],
      "execution_count": null,
      "outputs": [
        {
          "output_type": "stream",
          "text": [
            "{\"b\": 258, \"g\": 524, \"c\": 983, \"a\": 103}\n",
            "d g b\n",
            "782\n",
            "g b\n"
          ],
          "name": "stdout"
        }
      ]
    },
    {
      "cell_type": "markdown",
      "metadata": {
        "id": "urW74jtjt7qL"
      },
      "source": [
        "# Reto 5\n",
        "\n",
        "La tienda de partes “La Máquina” lo ha contratado a usted para que haga un programa digital el cual le permita a la tienda mejorar las ventas de partes para autos que manejan en el local, la tienda siempre crea una lista con los números de las partes que les faltan, así como otra con los números de ciertas partes que tienen para cambiar. Con estas listas se hacen cambios con otras tiendas.\n",
        "En esta tienda las partes para auto se clasifican de cierta manera así: “de lujo”, “premium”, “pro”, “especial” y “normal”. Como es lógico para hacer cambios, solo se harán por partes de la misma clasificación. Usted debe crear una librería llamada “partes” que conste como mínimo de las siguientes funciones que le permitirá construir el programa completo (vale 1):\n",
        "1.\t(vale 1) La función “clasificaciones” que dada una lista de las clasificaciones de las partes en inventario (en la posición i-esima de la lista está el tipo de dicha parte), genere una lista con las clasificaciones halladas sin repetición.\n",
        "Por ejemplo, si en el inventario hay diez partes y cada una tiene la siguiente clasificación:\n",
        "[“de lujo”,“de lujo”,“normal”,“normal”,“normal”, “pro”, “pro”, “pro”, “pro”,”especial”]\n",
        "\n",
        "La función deberá retornar la lista\n",
        "[“de lujo”,”normal”,”pro”,”especial”]\n",
        "2.\t(vale 1) La función “mefaltandelapartes” que dada una lista con los numero de las partes que les falta a la tienda, la lista de las clasificaciones de cada parte y una clasificación específica, retorne una lista con los números de las partes que les faltan con dicha clasificación.\n",
        "Por ejemplo si se ejecuta la función:\n",
        "mefaltandelaparte ([2,3,6,8], [“de lujo”,“de lujo”,“normal”,“normal”,“normal”, “pro”, “pro”, “pro”, “pro”,”especial”], “normal”)\n",
        "\n",
        "Se debe retornar\n",
        "[2,3]\n",
        "\n",
        "Otro ejemplo, si se ejecuta la función:\n",
        "mefaltandelaparte ([0,1,2,3,6,8], [“de lujo”,“de lujo”,“normal”,“normal”,“normal”, “pro”, “pro”, “pro”, “pro”,”especial”], “de lujo”)\n",
        "\n",
        "Se debe retornar\n",
        "[0,1]\n",
        "\n",
        "3.\t(vale 1) la función “notengopartes” que dada una lista con los números de las partes que tiene un distribuidor y una lista con los números de las partes que la tienda, debe retornar una lista con las partes que se puede comprar al distribuidor que no tenga la tienda.\n",
        "\n",
        "Por ejemplo, si se llama:\n",
        "notengopartes ([3,5,7,10,15,16],[4,10,5,8])\n",
        "se debe retornar la lista:\n",
        "[3,7,15,16]\n",
        "\n",
        "4.\t(Vale 1) Para simplificar la primera versión de la librería, la tienda “La Máquina” decidió pensar que todas las partes son de un mismo tipo y que la lista que manejan indican los números de las partes que se tienen para cambio y los números que no estén en la lista son partes que deberían obtener. De esta manera se debe crear una función “partesacambiar” que reciba la lista de números con las partes que tiene otra tienda con las que se van a intercambiar partes y la lista de los números de p\n",
        "\n",
        "Debe retornar 2 \n",
        "\n",
        "Porque a la otra tienda solo le interesan dos partes que tienen la tienda: [4,8], mientras que a la tienda “La Máquina” le interesan cuatro partes que la otra tienda tiene: [3,7,15,16]\n"
      ]
    },
    {
      "cell_type": "code",
      "metadata": {
        "colab": {
          "base_uri": "https://localhost:8080/"
        },
        "id": "0VXnyBbRPdzl",
        "outputId": "7ea9be29-d90f-48b7-f811-0485a5167186"
      },
      "source": [
        "def clasificaciones(clas):\n",
        "  listEA=[]\n",
        "  for x in clas:\n",
        "    if listEA.count(x) == 0:\n",
        "      listEA.append(x)\n",
        "    elif x is not listEA[len(listEA)-1]:\n",
        "      listEA.append(x)\n",
        "  return listEA\n",
        "\n",
        "def mefaltandelapartes(faltan):\n",
        "  J, K, L = faltan[0], faltan[1], faltan[2]\n",
        "  posF=[]\n",
        "  for f in J:\n",
        "    if K[f] in L:\n",
        "      posF.append(f)\n",
        "  return posF\n",
        "\n",
        "def notengopartes(stores):\n",
        "  listEA=[]\n",
        "  a, b = stores[0], stores[1]\n",
        "  for x in a:\n",
        "    listEA.append(x)\n",
        "    if x in b:\n",
        "      listEA.pop()\n",
        "  return listEA \n",
        "\n",
        "def partescambiar(change):\n",
        "  listEA=[]\n",
        "  a, b = change[0], change[1]\n",
        "  for x in b:\n",
        "    listEA.append(x)\n",
        "    if x in a:\n",
        "      listEA.pop()\n",
        "  return len(listEA), listEA\n",
        "\n",
        "def geIN(DEp1, DEp2):\n",
        "  count1=0\n",
        "  count2=0\n",
        "  for i in DEp1:\n",
        "    if i not in DEp2:\n",
        "      count1 +=1\n",
        "  \n",
        "  for i in DEp2:\n",
        "    if i not in DEp1:\n",
        "      count2 +=1\n",
        "  \n",
        "  return count1, count2, (count1 if count1 < count2 else count2)\n",
        "\n",
        "print(partescambiar(([3,5,7,10,15,16],[4,10,5,8])))\n",
        "print(partescambiar(([18, 28, 0, 20, 23, 14, 11, 42, 21, 19, 1, 17, 16, 7, 26, 8, 12],[18, 19, 29, 39, 5, 31, 3, 30, 38, 27, 20, 40, 9, 42, 13, 6, 37, 43, 17, 11])))\n",
        "print(geIN([3,5,7,10,15,16],[4,10,5,8]))\n",
        "print(geIN([18, 28, 0, 20, 23, 14, 11, 42, 21, 19, 1, 17, 16, 7, 26, 8, 12],[18, 19, 29, 39, 5, 31, 3, 30, 38, 27, 20, 40, 9, 42, 13, 6, 37, 43, 17, 11]))"
      ],
      "execution_count": null,
      "outputs": [
        {
          "output_type": "stream",
          "text": [
            "(2, [4, 8])\n",
            "(14, [29, 39, 5, 31, 3, 30, 38, 27, 40, 9, 13, 6, 37, 43])\n",
            "(4, 2, 2)\n",
            "(11, 14, 11)\n"
          ],
          "name": "stdout"
        }
      ]
    },
    {
      "cell_type": "code",
      "metadata": {
        "colab": {
          "base_uri": "https://localhost:8080/"
        },
        "id": "WuNb1AsbTjlg",
        "outputId": "cff63f7a-c070-4196-891a-13d48ab8b555"
      },
      "source": [
        "def clasificaciones(c):\n",
        "  listEA=[]\n",
        "  for x in c:\n",
        "    if x not in listEA:\n",
        "      listEA.append(x)\n",
        "  return listEA\n",
        "def mefaltandelapartes(J, K, L):\n",
        "  posF=[]\n",
        "  for f in J:\n",
        "    if K[f] in L:\n",
        "      posF.append(f)\n",
        "  return posF\n",
        "def notengopartes(a, b):\n",
        "  listEA=[]\n",
        "  for x in a:\n",
        "    listEA.append(x)\n",
        "    if x in b:\n",
        "      listEA.pop()\n",
        "  return listEA \n",
        "def partesacambiar(chang):\n",
        "  n, m = chang[0], chang[1]\n",
        "  listEA1=[]\n",
        "  listEA2=[]\n",
        "  for x in m:\n",
        "    listEA1.append(x)\n",
        "    if x in n:\n",
        "      listEA1.pop()\n",
        "  for x in n:\n",
        "    listEA2.append(x)\n",
        "    if x in m:\n",
        "      listEA2.pop()\n",
        "  cambio=0\n",
        "  if len(listEA1) < len(listEA2):\n",
        "    cambio = len(listEA1)\n",
        "  else:\n",
        "    cambio = len(listEA2)\n",
        "  return cambio\n",
        "\n",
        "print(clasificaciones(([5, 2, 3, 2, 5, 4, 2, 5, 5, 4, 1, 2, 2, 3, 1, 4, 5, 5, 2, 1, 5, 3, 3, 5, 3, 2, 2, 2, 1])))\n",
        "print(clasificaciones([\"de lujo\", \"de lujo\", \"normal\", \"normal\", \"normal\", \"pro\", \"pro\", \"pro\", \"pro\", \"especial\", \"normal\"]))\n",
        "print(partesacambiar(([18, 28, 0, 20, 23, 14, 11, 42, 21, 19, 1, 17, 16, 7, 26, 8, 12], [18, 19, 29, 39, 5, 31, 3, 30, 38, 27, 20, 40, 9, 42, 13, 6, 37, 43, 17, 11])))\n",
        "print(partesacambiar(([3,5,7,10,15,16], [4,10,5,8])))"
      ],
      "execution_count": null,
      "outputs": [
        {
          "output_type": "stream",
          "text": [
            "[5, 2, 3, 4, 1]\n",
            "['de lujo', 'normal', 'pro', 'especial']\n",
            "11\n",
            "2\n"
          ],
          "name": "stdout"
        }
      ]
    }
  ]
}